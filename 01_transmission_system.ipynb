{
 "cells": [
  {
   "cell_type": "markdown",
   "metadata": {},
   "source": [
    "# 0. Drahtlose Kommunikation\n",
    "\n",
    "## 0.1 Bildquellen und Vorlesungsinhalte\n",
    "Die in diesem Dokument verwendeten Bilder, sofern sich nicht mit dem hier aufgeführten Code generiert wurden, stammen aus dem PC-Übungsskript \"Drahtlose Kommunikation - MATLAB Rechenübung\" von Dipl. -ing Lutz Molle und Prof. Dr. -ing. Markus Nölle an der HTW Berlin. Sie wurden teilsweise zur besseren Darstellung von mir verändert.\n"
   ]
  },
  {
   "cell_type": "markdown",
   "metadata": {},
   "source": [
    "# 1. Simulation des Übertragungssystems"
   ]
  },
  {
   "cell_type": "markdown",
   "metadata": {},
   "source": [
    "Die Funktionen werden immer paarweise implementiert, da sie ähnlich wie beim OSI Modell komplementäre Funktionen ausüben."
   ]
  },
  {
   "cell_type": "code",
   "execution_count": 1,
   "metadata": {},
   "outputs": [],
   "source": [
    "import numpy as np\n",
    "import matplotlib.pyplot as plt\n",
    "import IPython.display\n",
    "from typing import List, Set, Dict, Tuple, Any"
   ]
  },
  {
   "cell_type": "code",
   "execution_count": 2,
   "metadata": {},
   "outputs": [],
   "source": [
    "%load_ext lab_black\n",
    "IPython.display.set_matplotlib_formats(\"pdf\", \"svg\")"
   ]
  },
  {
   "cell_type": "markdown",
   "metadata": {},
   "source": [
    "## 1.1 Quelle und Senke\n",
    "![Quelle und Senke](Images/01_Quell_Senke.png)"
   ]
  },
  {
   "cell_type": "code",
   "execution_count": 3,
   "metadata": {},
   "outputs": [],
   "source": [
    "def generate_bits(n_bits: int) -> List[bool]:\n",
    "    \"\"\"\n",
    "    Generate a vector with the shape 1 * n_bits from random values between\n",
    "    True and False.\n",
    "    \"\"\"\n",
    "\n",
    "    if type(n_bits) != int:\n",
    "        raise TypeError(\"Expected n_bits to be of type int.\")\n",
    "    choices: Set[bool] = {True, False}\n",
    "    vector_shape: Tuple[int, int] = (1, n_bits)\n",
    "    bit_vector: List[bool] = np.random.choice(a=choices, size=vector_shape)\n",
    "    return bit_vector"
   ]
  },
  {
   "cell_type": "code",
   "execution_count": 4,
   "metadata": {},
   "outputs": [],
   "source": [
    "def count_errors(x: List[bool], bits: List[bool]) -> Tuple[int, float]:\n",
    "    \"\"\"\n",
    "    Get two bit vectors an compere them.\n",
    "    Returns count of different bits an bit-error-racio.\n",
    "    The lenth of both vectors should be equal.\n",
    "    Both input vectors must be of type bool.\n",
    "    \"\"\"\n",
    "\n",
    "    len_x: int = len(x)\n",
    "    if len_x != len(bits):\n",
    "        raise ValueError(\"Lengths of bit vectores are different.\")\n",
    "    for item in x:\n",
    "        if type(item) != bool:\n",
    "            raise TypeError(\"Expected x to be of type bool.\")\n",
    "    for item in bits:\n",
    "        if type(item) != bool:\n",
    "            raise TypeError(\"Expected bits to be of type bool.\")\n",
    "    equal_bits: int = np.array(x) & np.array(bits)\n",
    "    n_error: int = len_x - np.count_nonzero(equal_bits)\n",
    "    bit_error_rate: float = float(n_error) / float(len_x)\n",
    "    return (n_error, bit_error_rate)"
   ]
  },
  {
   "cell_type": "markdown",
   "metadata": {},
   "source": [
    "# 1.1 Kanal codierung\n",
    "![Kanal codierung](Images/02_Kanal_Codierung.png)"
   ]
  },
  {
   "cell_type": "markdown",
   "metadata": {},
   "source": [
    "# 1.2 Mapper, Demapper, Entscheider\n",
    "![Mapper, Demapper, Entscheider](Images/03_Mapper.png)"
   ]
  },
  {
   "cell_type": "code",
   "execution_count": 5,
   "metadata": {},
   "outputs": [],
   "source": [
    "def mapper(bits: List[bool], constellation: List[complex]) -> complex:\n",
    "    \"\"\"\n",
    "    Get list of bits and encode them to a symbol.\n",
    "    \"\"\"\n",
    "    len_bits: int = len(bits)\n",
    "    len_constellation: int = len(constellation)\n",
    "    if 2 ** len_bits != len_constellation:\n",
    "        raise ValueError(\n",
    "            f\"Constellation vector length ({len_constellation}) \"\n",
    "            + f\"doesn't match bit vector length ({len_bits}). \"\n",
    "            + \"Constellation must be two to the power of bit vector.\"\n",
    "        )\n",
    "    bit_string: str = \"\"\n",
    "    for bit in bits:\n",
    "        if bit == False:\n",
    "            bit_string = bit_string + \"0\"\n",
    "        else:\n",
    "            bit_string = bit_string + \"1\"\n",
    "    symbol: int = int(bit_string, 2)\n",
    "    return constellation[symbol]"
   ]
  },
  {
   "cell_type": "code",
   "execution_count": 122,
   "metadata": {},
   "outputs": [],
   "source": [
    "def demapper(symbol: complex, constellation: List[complex]) -> List[bool]:\n",
    "    \"\"\"\n",
    "    Gets symbol and retunrns corresponding bit sequence.\n",
    "    \"\"\"\n",
    "    len_constellation: int = len(constellation)\n",
    "    len_bits: numpy.float64 = int(\n",
    "        np.log(len_constellation) / np.log(2)\n",
    "    )  # Bit const_len should be 2**bit_len\n",
    "    if len_bits % 1 != 0:\n",
    "        raise ValueError(\n",
    "            \"Expected constellation vector's length to be a power of two, \"\n",
    "            + \"got len {len_constellation} instead\"\n",
    "        )\n",
    "    bits_integer = constellation.index(symbol)\n",
    "    # bit vector lenth depends on constellation lenth\n",
    "    # bit vector value depends on position in constellation vector\n",
    "    bits_string = (\"{0:0\" + f\"{len_bits}\" + \"b}\").format(bits_integer)\n",
    "    bits = [bool(int(bit)) for bit in bits_string]  # int cast because \"0\"-String is True\n",
    "    return bits"
   ]
  },
  {
   "cell_type": "code",
   "execution_count": null,
   "metadata": {},
   "outputs": [],
   "source": [
    "def decission():\n",
    "    pass"
   ]
  },
  {
   "cell_type": "markdown",
   "metadata": {},
   "source": [
    "# 1.3 Kanal (Funk, Kabel, ...)\n",
    "![Kanal (Funk, Kabel, ...](Images/04_Kanal.png)"
   ]
  },
  {
   "cell_type": "code",
   "execution_count": null,
   "metadata": {},
   "outputs": [],
   "source": [
    "def awgn():\n",
    "    pass"
   ]
  },
  {
   "cell_type": "code",
   "execution_count": null,
   "metadata": {},
   "outputs": [],
   "source": [
    "def radio_fading_channel():\n",
    "    pass"
   ]
  },
  {
   "cell_type": "code",
   "execution_count": null,
   "metadata": {},
   "outputs": [],
   "source": []
  }
 ],
 "metadata": {
  "kernelspec": {
   "display_name": "Python 3",
   "language": "python",
   "name": "python3"
  },
  "language_info": {
   "codemirror_mode": {
    "name": "ipython",
    "version": 3
   },
   "file_extension": ".py",
   "mimetype": "text/x-python",
   "name": "python",
   "nbconvert_exporter": "python",
   "pygments_lexer": "ipython3",
   "version": "3.8.5"
  }
 },
 "nbformat": 4,
 "nbformat_minor": 4
}
