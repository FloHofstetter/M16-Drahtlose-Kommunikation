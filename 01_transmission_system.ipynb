{
 "cells": [
  {
   "cell_type": "markdown",
   "metadata": {},
   "source": [
    "# 0. Drahtlose Kommunikation\n",
    "\n",
    "## 0.1 Bildquellen und Vorlesungsinhalte\n",
    "Die in diesem Dokument verwendeten Bilder, sofern sich nicht mit dem hier aufgeführten Code generiert wurden, stammen aus dem PC-Übungsskript \"Drahtlose Kommunikation - MATLAB Rechenübung\" von Dipl. -ing Lutz Molle und Prof. Dr. -ing. Markus Nölle an der HTW Berlin. Sie wurden teilsweise zur besseren Darstellung von mir verändert.\n"
   ]
  },
  {
   "cell_type": "markdown",
   "metadata": {},
   "source": [
    "# 1. Simulation des Übertragungssystems"
   ]
  },
  {
   "cell_type": "markdown",
   "metadata": {},
   "source": [
    "Die Funktionen werden immer paarweise implementiert, da sie ähnlich wie beim OSI Modell komplementäre Funktionen ausüben."
   ]
  },
  {
   "cell_type": "code",
   "execution_count": 1,
   "metadata": {},
   "outputs": [],
   "source": [
    "import numpy as np\n",
    "import matplotlib.pyplot as plt\n",
    "import IPython.display\n",
    "from tqdm import tqdm\n",
    "from typing import List, Set, Dict, Tuple, Any, Callable"
   ]
  },
  {
   "cell_type": "code",
   "execution_count": 2,
   "metadata": {},
   "outputs": [],
   "source": [
    "%load_ext lab_black\n",
    "IPython.display.set_matplotlib_formats(\"pdf\", \"svg\")"
   ]
  },
  {
   "cell_type": "markdown",
   "metadata": {},
   "source": [
    "## 1.1 Quelle und Senke\n",
    "![Quelle und Senke](Images/01_Quell_Senke.png)"
   ]
  },
  {
   "cell_type": "code",
   "execution_count": 3,
   "metadata": {},
   "outputs": [],
   "source": [
    "def generate_bits(n_bits: int) -> np.ndarray:\n",
    "    \"\"\"\n",
    "    Generate numpy array with n_bits values.\n",
    "\n",
    "    n_bits: Number of bits to generate\n",
    "    :return: Randomly generated bits.\n",
    "    \"\"\"\n",
    "\n",
    "    if not isinstance(n_bits, int):\n",
    "        raise TypeError(\"Expected n_bits to be of type int.\")\n",
    "\n",
    "    bit_vector: np.ndarray = np.random.randint(0, 2, size=n_bits)\n",
    "    return bit_vector"
   ]
  },
  {
   "cell_type": "code",
   "execution_count": 4,
   "metadata": {},
   "outputs": [],
   "source": [
    "def count_errors(\n",
    "    true_values: np.ndarray, tested_values: np.ndarray\n",
    ") -> Tuple[int, float]:\n",
    "    \"\"\"\n",
    "    Get two bit vectors an compere them.\n",
    "    Returns count of different bits an bit-error-racio.\n",
    "    The lenth of both vectors should be equal.\n",
    "    Both input vectors must be of type bool.\n",
    "\n",
    "    true_values: Original values.\n",
    "    tested_values: Values to compare to original values.\n",
    "    \"\"\"\n",
    "\n",
    "    if len(true_values) != len(tested_values):\n",
    "        raise ValueError(\"Lengths of bit vectores are different.\")\n",
    "    for item in true_values:\n",
    "        if item != 0 and item != 1:\n",
    "            raise TypeError(f\"Expected true_values to be ether 0 or 1. Got: {item}\")\n",
    "    for item in tested_values:\n",
    "        if item != 0 and item != 1:\n",
    "            raise TypeError(f\"Expected tested_values to be ether 0 or 1. Got: {item}\")\n",
    "\n",
    "    equal_bits: np.ndarray = true_values == tested_values\n",
    "    n_error: int = len(true_values) - int(np.count_nonzero(equal_bits))\n",
    "    bit_error_rate: float = n_error / len(true_values)\n",
    "    return (n_error, bit_error_rate)"
   ]
  },
  {
   "cell_type": "markdown",
   "metadata": {},
   "source": [
    "# 1.2 Kanal codierung\n",
    "![Kanal codierung](Images/02_Kanal_Codierung.png)"
   ]
  },
  {
   "cell_type": "markdown",
   "metadata": {},
   "source": [
    "# 1.3 Mapper, Demapper, Entscheider\n",
    "![Mapper, Demapper, Entscheider](Images/03_Mapper.png)"
   ]
  },
  {
   "cell_type": "code",
   "execution_count": 5,
   "metadata": {},
   "outputs": [],
   "source": [
    "def mapper(bits: np.ndarray, constellation: Dict[Tuple, complex]) -> np.ndarray:\n",
    "    \"\"\"\n",
    "    Get array of bits and map them to an array of symbols.\n",
    "    Bit vector length and constellation vector length must agree.\n",
    "\n",
    "    bits: Bits to map to symbols.\n",
    "    constellation: Available symbols to map to.\n",
    "    :return: Mapped symbols.\n",
    "    \"\"\"\n",
    "    # len_bits: int = len(bits)\n",
    "    len_constellation: int = len(constellation)\n",
    "\n",
    "    symbols: List[complex] = []\n",
    "    slices: List[complex] = []\n",
    "    bits_per_symbol: int = int(np.log2(len_constellation))\n",
    "    bit_nr: int = 0\n",
    "    for bit in bits:\n",
    "        slices.append(bit)\n",
    "        if len(slices) == bits_per_symbol:\n",
    "            symbols.append(constellation[tuple(slices)])\n",
    "            slices = []\n",
    "        elif len(slices) > bits_per_symbol:\n",
    "            raise ValueError(\"TBD\")\n",
    "    # Fehler Mehr bits als constalltions her gibt.\n",
    "    if len(slices) > 0:\n",
    "        raise ValueError(\n",
    "            f\"Bit vector has not the right length. There are {len(slices)} bit(s) to much.\"\n",
    "        )\n",
    "\n",
    "    return np.array(symbols)"
   ]
  },
  {
   "cell_type": "code",
   "execution_count": 6,
   "metadata": {},
   "outputs": [],
   "source": [
    "def decission(symbols: np.ndarray, constellation: Dict[Tuple, complex]) -> np.ndarray:\n",
    "    \"\"\"\n",
    "    Get array of symbols. Return array of symboles where eukledian\n",
    "    distance to the origianl Symbol.\n",
    "\n",
    "    symbols: List of noisy input symbols.\n",
    "    constallation: Table of constallation symbols.\n",
    "    :return: List of decided symbols.\n",
    "    \"\"\"\n",
    "\n",
    "    # Constellation Dict/Table to constellation vector\n",
    "    constellation_list: List[complex] = [constellation[key] for key in constellation]\n",
    "    constellation_vector: np.ndarray = np.array(constellation_list)\n",
    "\n",
    "    # Normalize symbols to constellation\n",
    "    constellation_rms: np.ndarray = np.sqrt(np.mean(np.abs(constellation_vector) ** 2))\n",
    "    symbols_rms: np.ndarray = np.sqrt(np.mean(np.abs(constellation_vector) ** 2))\n",
    "    normalisation_factor: np.ndarray = symbols_rms / constellation_rms\n",
    "    symbols = symbols / normalisation_factor  # Symbols normalized to constellation\n",
    "\n",
    "    # Calculate for every Symbol dicission gets the distance (Eucledian distance)\n",
    "    # to every possible symbol. Least distance winns.\n",
    "    decission: List[complex] = []\n",
    "    for symbol in symbols:\n",
    "        distance: List[complex] = []\n",
    "        for const_symbol in constellation_vector:\n",
    "            distance.append(np.linalg.norm(const_symbol - symbol))\n",
    "        const_index = distance.index(min(distance))\n",
    "        decission.append(constellation_vector[const_index])\n",
    "    return np.array(decission)"
   ]
  },
  {
   "cell_type": "code",
   "execution_count": 7,
   "metadata": {},
   "outputs": [],
   "source": [
    "def demapper(symbols: np.ndarray, constellation: np.ndarray) -> np.ndarray:\n",
    "    \"\"\"\n",
    "    Get symbol and retunrns corresponding bit sequence.\n",
    "\n",
    "    symbols: Sybol carring bit information.\n",
    "    constellation: Constellation Table to decode.\n",
    "    :return: Byte information.\n",
    "    \"\"\"\n",
    "    reverse_constallation: dict = dict(\n",
    "        [(constellation[key], key) for key in constellation]\n",
    "    )\n",
    "    bit_tuples: List[int] = [reverse_constallation[symbol] for symbol in symbols]\n",
    "    bits: List[int] = []\n",
    "    for bit_tuple in bit_tuples:\n",
    "        for bit in bit_tuple:\n",
    "            bits.append(bit)\n",
    "\n",
    "    return np.array(bits)"
   ]
  },
  {
   "cell_type": "markdown",
   "metadata": {},
   "source": [
    "# 1.4 Kanal (Funk, Kabel, ...)\n",
    "![Kanal (Funk, Kabel, ...](Images/04_Kanal.png)"
   ]
  },
  {
   "cell_type": "markdown",
   "metadata": {},
   "source": [
    "### 1.4.1 AWGN"
   ]
  },
  {
   "cell_type": "code",
   "execution_count": 8,
   "metadata": {},
   "outputs": [],
   "source": [
    "# Ideas from:\n",
    "# https://stackoverflow.com/a/53688043\n",
    "# 8 Dec 2018 at 23:31 by tmcdevitt\n",
    "def awgn(signal: np.ndarray, snr_s: float):\n",
    "    \"\"\"\n",
    "    Add AWGN to signal.\n",
    "\n",
    "    signal: Signal to add noise.\n",
    "    snr_b: Signal to noise ratio per symbol in dB.\n",
    "    :return: Noisy signal.\n",
    "    \"\"\"\n",
    "    # Calculate power of signal\n",
    "    signal_power: float = float(\n",
    "        (1.0 / len(signal)) * np.sum(np.abs(signal) ** 2)  # Power = RMS ** 2\n",
    "    )\n",
    "\n",
    "    # SNR linear\n",
    "    snr_linear: float = 10 ** (snr_s / 10)\n",
    "\n",
    "    # Noise Power linear\n",
    "    nois_power_linear: float = signal_power / snr_linear\n",
    "\n",
    "    # Generate noise samples\n",
    "    mean_noise: float = 0.0\n",
    "    noise = np.random.normal(mean_noise, np.sqrt(nois_power_linear), len(signal))\n",
    "\n",
    "    # Noise up the original signal\n",
    "    noisy_signal: np.ndarray = signal + noise\n",
    "    return noisy_signal"
   ]
  },
  {
   "cell_type": "markdown",
   "metadata": {},
   "source": [
    "### 1.4.2 Radio fading channel"
   ]
  },
  {
   "cell_type": "code",
   "execution_count": 9,
   "metadata": {},
   "outputs": [],
   "source": [
    "def radio_fading_channel(n_samples: np.ndarray) -> np.ndarray:\n",
    "    \"\"\"\n",
    "    Genergate n_samples of gaussian distributetd channel koefficents.\n",
    "    Kanalkoeffizient je symbol, da sich der Kanal pro Symbol ändert.\n",
    "\n",
    "    n_samples:\n",
    "    :return:\n",
    "    \"\"\"\n",
    "    mean_noise: float = 0.0\n",
    "    std_dev: float = 1.0\n",
    "    samples = np.random.normal(mean_noise, std_dev, size=(n_samples, 2))\n",
    "    samples = np.squeeze(samples.view(np.complex), axis=1)\n",
    "    # RMS\n",
    "    samples_rms = np.sqrt(np.mean(np.square(np.abs(samples))))\n",
    "    samples /= samples_rms  # Normierung, da der Kanal weder versärkt noch schwächt\n",
    "    return samples"
   ]
  },
  {
   "cell_type": "code",
   "execution_count": 10,
   "metadata": {},
   "outputs": [
    {
     "ename": "SyntaxError",
     "evalue": "unexpected EOF while parsing (<ipython-input-10-9e28a8463b2d>, line 1)",
     "output_type": "error",
     "traceback": [
      "\u001b[0;36m  File \u001b[0;32m\"<ipython-input-10-9e28a8463b2d>\"\u001b[0;36m, line \u001b[0;32m1\u001b[0m\n\u001b[0;31m    np.sqrt(radio_fading_channel(10)\u001b[0m\n\u001b[0m                                    ^\u001b[0m\n\u001b[0;31mSyntaxError\u001b[0m\u001b[0;31m:\u001b[0m unexpected EOF while parsing\n"
     ]
    },
    {
     "name": "stdout",
     "output_type": "stream",
     "text": [
      "Error in callback <bound method BlackFormatter.format_cell of <lab_black.BlackFormatter object at 0x7f653c565850>> (for post_run_cell):\n"
     ]
    },
    {
     "ename": "TokenError",
     "evalue": "('EOF in multi-line statement', (2, 0))",
     "output_type": "error",
     "traceback": [
      "\u001b[0;31m---------------------------------------------------------------------------\u001b[0m",
      "\u001b[0;31mTokenError\u001b[0m                                Traceback (most recent call last)",
      "\u001b[0;32m~/git-repos/M16-Drahtlose-Kommunikation/venv/lib/python3.8/site-packages/lab_black.py\u001b[0m in \u001b[0;36mformat_cell\u001b[0;34m(self, *args, **kwargs)\u001b[0m\n\u001b[1;32m    216\u001b[0m                 \u001b[0mcell\u001b[0m \u001b[0;34m=\u001b[0m \u001b[0m_transform_magic_commands\u001b[0m\u001b[0;34m(\u001b[0m\u001b[0munformatted_cell\u001b[0m\u001b[0;34m,\u001b[0m \u001b[0mhidden_variables\u001b[0m\u001b[0;34m)\u001b[0m\u001b[0;34m\u001b[0m\u001b[0;34m\u001b[0m\u001b[0m\n\u001b[1;32m    217\u001b[0m \u001b[0;34m\u001b[0m\u001b[0m\n\u001b[0;32m--> 218\u001b[0;31m                 \u001b[0mformatted_code\u001b[0m \u001b[0;34m=\u001b[0m \u001b[0m_format_code\u001b[0m\u001b[0;34m(\u001b[0m\u001b[0mcell\u001b[0m\u001b[0;34m)\u001b[0m\u001b[0;34m\u001b[0m\u001b[0;34m\u001b[0m\u001b[0m\n\u001b[0m\u001b[1;32m    219\u001b[0m \u001b[0;34m\u001b[0m\u001b[0m\n\u001b[1;32m    220\u001b[0m                 \u001b[0;31m# Recover magic commands\u001b[0m\u001b[0;34m\u001b[0m\u001b[0;34m\u001b[0m\u001b[0;34m\u001b[0m\u001b[0m\n",
      "\u001b[0;32m~/git-repos/M16-Drahtlose-Kommunikation/venv/lib/python3.8/site-packages/lab_black.py\u001b[0m in \u001b[0;36m_format_code\u001b[0;34m(code)\u001b[0m\n\u001b[1;32m     27\u001b[0m \u001b[0;34m\u001b[0m\u001b[0m\n\u001b[1;32m     28\u001b[0m     \u001b[0;32mdef\u001b[0m \u001b[0m_format_code\u001b[0m\u001b[0;34m(\u001b[0m\u001b[0mcode\u001b[0m\u001b[0;34m)\u001b[0m\u001b[0;34m:\u001b[0m\u001b[0;34m\u001b[0m\u001b[0;34m\u001b[0m\u001b[0m\n\u001b[0;32m---> 29\u001b[0;31m         \u001b[0;32mreturn\u001b[0m \u001b[0mformat_str\u001b[0m\u001b[0;34m(\u001b[0m\u001b[0msrc_contents\u001b[0m\u001b[0;34m=\u001b[0m\u001b[0mcode\u001b[0m\u001b[0;34m,\u001b[0m \u001b[0mmode\u001b[0m\u001b[0;34m=\u001b[0m\u001b[0mFileMode\u001b[0m\u001b[0;34m(\u001b[0m\u001b[0;34m)\u001b[0m\u001b[0;34m)\u001b[0m\u001b[0;34m\u001b[0m\u001b[0;34m\u001b[0m\u001b[0m\n\u001b[0m\u001b[1;32m     30\u001b[0m \u001b[0;34m\u001b[0m\u001b[0m\n\u001b[1;32m     31\u001b[0m \u001b[0;34m\u001b[0m\u001b[0m\n",
      "\u001b[0;32m~/git-repos/M16-Drahtlose-Kommunikation/venv/lib/python3.8/site-packages/black/__init__.py\u001b[0m in \u001b[0;36mformat_str\u001b[0;34m(src_contents, mode)\u001b[0m\n\u001b[1;32m    972\u001b[0m \u001b[0;34m\u001b[0m\u001b[0m\n\u001b[1;32m    973\u001b[0m     \"\"\"\n\u001b[0;32m--> 974\u001b[0;31m     \u001b[0msrc_node\u001b[0m \u001b[0;34m=\u001b[0m \u001b[0mlib2to3_parse\u001b[0m\u001b[0;34m(\u001b[0m\u001b[0msrc_contents\u001b[0m\u001b[0;34m.\u001b[0m\u001b[0mlstrip\u001b[0m\u001b[0;34m(\u001b[0m\u001b[0;34m)\u001b[0m\u001b[0;34m,\u001b[0m \u001b[0mmode\u001b[0m\u001b[0;34m.\u001b[0m\u001b[0mtarget_versions\u001b[0m\u001b[0;34m)\u001b[0m\u001b[0;34m\u001b[0m\u001b[0;34m\u001b[0m\u001b[0m\n\u001b[0m\u001b[1;32m    975\u001b[0m     \u001b[0mdst_contents\u001b[0m \u001b[0;34m=\u001b[0m \u001b[0;34m[\u001b[0m\u001b[0;34m]\u001b[0m\u001b[0;34m\u001b[0m\u001b[0;34m\u001b[0m\u001b[0m\n\u001b[1;32m    976\u001b[0m     \u001b[0mfuture_imports\u001b[0m \u001b[0;34m=\u001b[0m \u001b[0mget_future_imports\u001b[0m\u001b[0;34m(\u001b[0m\u001b[0msrc_node\u001b[0m\u001b[0;34m)\u001b[0m\u001b[0;34m\u001b[0m\u001b[0;34m\u001b[0m\u001b[0m\n",
      "\u001b[0;32m~/git-repos/M16-Drahtlose-Kommunikation/venv/lib/python3.8/site-packages/black/__init__.py\u001b[0m in \u001b[0;36mlib2to3_parse\u001b[0;34m(src_txt, target_versions)\u001b[0m\n\u001b[1;32m   1069\u001b[0m         \u001b[0mdrv\u001b[0m \u001b[0;34m=\u001b[0m \u001b[0mdriver\u001b[0m\u001b[0;34m.\u001b[0m\u001b[0mDriver\u001b[0m\u001b[0;34m(\u001b[0m\u001b[0mgrammar\u001b[0m\u001b[0;34m,\u001b[0m \u001b[0mpytree\u001b[0m\u001b[0;34m.\u001b[0m\u001b[0mconvert\u001b[0m\u001b[0;34m)\u001b[0m\u001b[0;34m\u001b[0m\u001b[0;34m\u001b[0m\u001b[0m\n\u001b[1;32m   1070\u001b[0m         \u001b[0;32mtry\u001b[0m\u001b[0;34m:\u001b[0m\u001b[0;34m\u001b[0m\u001b[0;34m\u001b[0m\u001b[0m\n\u001b[0;32m-> 1071\u001b[0;31m             \u001b[0mresult\u001b[0m \u001b[0;34m=\u001b[0m \u001b[0mdrv\u001b[0m\u001b[0;34m.\u001b[0m\u001b[0mparse_string\u001b[0m\u001b[0;34m(\u001b[0m\u001b[0msrc_txt\u001b[0m\u001b[0;34m,\u001b[0m \u001b[0;32mTrue\u001b[0m\u001b[0;34m)\u001b[0m\u001b[0;34m\u001b[0m\u001b[0;34m\u001b[0m\u001b[0m\n\u001b[0m\u001b[1;32m   1072\u001b[0m             \u001b[0;32mbreak\u001b[0m\u001b[0;34m\u001b[0m\u001b[0;34m\u001b[0m\u001b[0m\n\u001b[1;32m   1073\u001b[0m \u001b[0;34m\u001b[0m\u001b[0m\n",
      "\u001b[0;32m~/git-repos/M16-Drahtlose-Kommunikation/venv/lib/python3.8/site-packages/blib2to3/pgen2/driver.py\u001b[0m in \u001b[0;36mparse_string\u001b[0;34m(self, text, debug)\u001b[0m\n\u001b[1;32m    140\u001b[0m             \u001b[0mio\u001b[0m\u001b[0;34m.\u001b[0m\u001b[0mStringIO\u001b[0m\u001b[0;34m(\u001b[0m\u001b[0mtext\u001b[0m\u001b[0;34m)\u001b[0m\u001b[0;34m.\u001b[0m\u001b[0mreadline\u001b[0m\u001b[0;34m,\u001b[0m \u001b[0mgrammar\u001b[0m\u001b[0;34m=\u001b[0m\u001b[0mself\u001b[0m\u001b[0;34m.\u001b[0m\u001b[0mgrammar\u001b[0m\u001b[0;34m\u001b[0m\u001b[0;34m\u001b[0m\u001b[0m\n\u001b[1;32m    141\u001b[0m         )\n\u001b[0;32m--> 142\u001b[0;31m         \u001b[0;32mreturn\u001b[0m \u001b[0mself\u001b[0m\u001b[0;34m.\u001b[0m\u001b[0mparse_tokens\u001b[0m\u001b[0;34m(\u001b[0m\u001b[0mtokens\u001b[0m\u001b[0;34m,\u001b[0m \u001b[0mdebug\u001b[0m\u001b[0;34m)\u001b[0m\u001b[0;34m\u001b[0m\u001b[0;34m\u001b[0m\u001b[0m\n\u001b[0m\u001b[1;32m    143\u001b[0m \u001b[0;34m\u001b[0m\u001b[0m\n\u001b[1;32m    144\u001b[0m     \u001b[0;32mdef\u001b[0m \u001b[0m_partially_consume_prefix\u001b[0m\u001b[0;34m(\u001b[0m\u001b[0mself\u001b[0m\u001b[0;34m,\u001b[0m \u001b[0mprefix\u001b[0m\u001b[0;34m:\u001b[0m \u001b[0mText\u001b[0m\u001b[0;34m,\u001b[0m \u001b[0mcolumn\u001b[0m\u001b[0;34m:\u001b[0m \u001b[0mint\u001b[0m\u001b[0;34m)\u001b[0m \u001b[0;34m->\u001b[0m \u001b[0mTuple\u001b[0m\u001b[0;34m[\u001b[0m\u001b[0mText\u001b[0m\u001b[0;34m,\u001b[0m \u001b[0mText\u001b[0m\u001b[0;34m]\u001b[0m\u001b[0;34m:\u001b[0m\u001b[0;34m\u001b[0m\u001b[0;34m\u001b[0m\u001b[0m\n",
      "\u001b[0;32m~/git-repos/M16-Drahtlose-Kommunikation/venv/lib/python3.8/site-packages/blib2to3/pgen2/driver.py\u001b[0m in \u001b[0;36mparse_tokens\u001b[0;34m(self, tokens, debug)\u001b[0m\n\u001b[1;32m     68\u001b[0m         \u001b[0mtype\u001b[0m \u001b[0;34m=\u001b[0m \u001b[0mvalue\u001b[0m \u001b[0;34m=\u001b[0m \u001b[0mstart\u001b[0m \u001b[0;34m=\u001b[0m \u001b[0mend\u001b[0m \u001b[0;34m=\u001b[0m \u001b[0mline_text\u001b[0m \u001b[0;34m=\u001b[0m \u001b[0;32mNone\u001b[0m\u001b[0;34m\u001b[0m\u001b[0;34m\u001b[0m\u001b[0m\n\u001b[1;32m     69\u001b[0m         \u001b[0mprefix\u001b[0m \u001b[0;34m=\u001b[0m \u001b[0;34m\"\"\u001b[0m\u001b[0;34m\u001b[0m\u001b[0;34m\u001b[0m\u001b[0m\n\u001b[0;32m---> 70\u001b[0;31m         \u001b[0;32mfor\u001b[0m \u001b[0mquintuple\u001b[0m \u001b[0;32min\u001b[0m \u001b[0mtokens\u001b[0m\u001b[0;34m:\u001b[0m\u001b[0;34m\u001b[0m\u001b[0;34m\u001b[0m\u001b[0m\n\u001b[0m\u001b[1;32m     71\u001b[0m             \u001b[0mtype\u001b[0m\u001b[0;34m,\u001b[0m \u001b[0mvalue\u001b[0m\u001b[0;34m,\u001b[0m \u001b[0mstart\u001b[0m\u001b[0;34m,\u001b[0m \u001b[0mend\u001b[0m\u001b[0;34m,\u001b[0m \u001b[0mline_text\u001b[0m \u001b[0;34m=\u001b[0m \u001b[0mquintuple\u001b[0m\u001b[0;34m\u001b[0m\u001b[0;34m\u001b[0m\u001b[0m\n\u001b[1;32m     72\u001b[0m             \u001b[0;32mif\u001b[0m \u001b[0mstart\u001b[0m \u001b[0;34m!=\u001b[0m \u001b[0;34m(\u001b[0m\u001b[0mlineno\u001b[0m\u001b[0;34m,\u001b[0m \u001b[0mcolumn\u001b[0m\u001b[0;34m)\u001b[0m\u001b[0;34m:\u001b[0m\u001b[0;34m\u001b[0m\u001b[0;34m\u001b[0m\u001b[0m\n",
      "\u001b[0;32m~/git-repos/M16-Drahtlose-Kommunikation/venv/lib/python3.8/site-packages/blib2to3/pgen2/tokenize.py\u001b[0m in \u001b[0;36mgenerate_tokens\u001b[0;34m(readline, grammar)\u001b[0m\n\u001b[1;32m    540\u001b[0m         \u001b[0;32melse\u001b[0m\u001b[0;34m:\u001b[0m  \u001b[0;31m# continued statement\u001b[0m\u001b[0;34m\u001b[0m\u001b[0;34m\u001b[0m\u001b[0m\n\u001b[1;32m    541\u001b[0m             \u001b[0;32mif\u001b[0m \u001b[0;32mnot\u001b[0m \u001b[0mline\u001b[0m\u001b[0;34m:\u001b[0m\u001b[0;34m\u001b[0m\u001b[0;34m\u001b[0m\u001b[0m\n\u001b[0;32m--> 542\u001b[0;31m                 \u001b[0;32mraise\u001b[0m \u001b[0mTokenError\u001b[0m\u001b[0;34m(\u001b[0m\u001b[0;34m\"EOF in multi-line statement\"\u001b[0m\u001b[0;34m,\u001b[0m \u001b[0;34m(\u001b[0m\u001b[0mlnum\u001b[0m\u001b[0;34m,\u001b[0m \u001b[0;36m0\u001b[0m\u001b[0;34m)\u001b[0m\u001b[0;34m)\u001b[0m\u001b[0;34m\u001b[0m\u001b[0;34m\u001b[0m\u001b[0m\n\u001b[0m\u001b[1;32m    543\u001b[0m             \u001b[0mcontinued\u001b[0m \u001b[0;34m=\u001b[0m \u001b[0;36m0\u001b[0m\u001b[0;34m\u001b[0m\u001b[0;34m\u001b[0m\u001b[0m\n\u001b[1;32m    544\u001b[0m \u001b[0;34m\u001b[0m\u001b[0m\n",
      "\u001b[0;31mTokenError\u001b[0m: ('EOF in multi-line statement', (2, 0))"
     ]
    }
   ],
   "source": [
    "np.sqrt(radio_fading_channel(10)\n"
   ]
  },
  {
   "cell_type": "markdown",
   "metadata": {},
   "source": [
    "# 2. Demonstration der einzelnen Funktionen\n",
    "## 2.1 Quelle und Senke\n",
    "### 2.1.1 Quelle\n",
    "Die Quelle generiert eine beliebige anzahl (n_bits) an [zufälligen](https://numpy.org/doc/stable/reference/random/generated/numpy.random.randint.htmlhttps://numpy.org/doc/stable/reference/random/generated/numpy.random.randint.html) bits."
   ]
  },
  {
   "cell_type": "code",
   "execution_count": null,
   "metadata": {},
   "outputs": [],
   "source": [
    "random_bits: np.ndarray = generate_bits(10)\n",
    "\n",
    "print(f\"Zufällige bits: {random_bits}\")"
   ]
  },
  {
   "cell_type": "markdown",
   "metadata": {},
   "source": [
    "### 2.1.2 Senke\n",
    "In der Senke werden die eingegangen bits mit den eigentlich gesendeten Bits verglichen. Es wird die absolute Anzahl an flaschen Bits sowie die BER (Bit error rate) berechnet.  \n",
    "BER = $\\frac{falsch\\_empfangen}{absolut\\_empfangen}$\n",
    "Schelchtester Fall ist $BER = 0.5$. Das würde Raten entsprechen. Ist der BER = 1 geht wie bei 0 kein Informationsgehalt verloren, da die Werte durch invertieren wiederhergestellt werden können."
   ]
  },
  {
   "cell_type": "code",
   "execution_count": null,
   "metadata": {},
   "outputs": [],
   "source": [
    "true_values: np.ndarray = np.array([1, 1, 1, 0])\n",
    "test_values: np.ndarray = np.array([1, 0, 1, 0])\n",
    "bit_errors: int\n",
    "ber: float\n",
    "bit_errors, ber = count_errors(true_values, test_values)\n",
    "\n",
    "print(f\"Gesendete Bits:  {true_values}\")\n",
    "print(f\"Empfangene Bits: {test_values}\")\n",
    "print(f\"Falsche Bits:    {bit_errors}\")\n",
    "print(f\"BER:             {ber}\")"
   ]
  },
  {
   "cell_type": "markdown",
   "metadata": {},
   "source": [
    "## 2.2 Mapper, Demapper, Entscheider\n",
    "Mapper symbols from [LTE Specification](https://www.etsi.org/deliver/etsi_ts/136200_136299/136211/13.07.01_60/ts_136211v130701p.pdf) S. 133f"
   ]
  },
  {
   "cell_type": "code",
   "execution_count": null,
   "metadata": {},
   "outputs": [],
   "source": [
    "CONST_BPSK: Dict[Tuple, complex]\n",
    "CONST_BPSK = {\n",
    "    (0,): +1 / np.sqrt(2) + 1j * (1 / np.sqrt(2)),\n",
    "    (1,): -1 / np.sqrt(2) - 1j * (1 / np.sqrt(2)),\n",
    "}\n",
    "CONST_QPSK: Dict[Tuple, complex]\n",
    "CONST_QPSK = {\n",
    "    (0, 0): +1 / np.sqrt(2) + 1j * (1 / np.sqrt(2)),\n",
    "    (0, 1): +1 / np.sqrt(2) - 1j * (1 / np.sqrt(2)),\n",
    "    (1, 0): -1 / np.sqrt(2) + 1j * (1 / np.sqrt(2)),\n",
    "    (1, 1): -1 / np.sqrt(2) - 1j * (1 / np.sqrt(2)),\n",
    "}\n",
    "CONST_16QAM: Dict[Tuple, complex]\n",
    "CONST_16QAM = {\n",
    "    (0, 0, 0, 0): +1 / np.sqrt(10) + 1 / np.sqrt(10),\n",
    "    (0, 0, 0, 1): +1 / np.sqrt(10) + 3 / np.sqrt(10),\n",
    "    (0, 0, 1, 0): +3 / np.sqrt(10) + 1 / np.sqrt(10),\n",
    "    (0, 0, 1, 1): +3 / np.sqrt(10) + 3 / np.sqrt(10),\n",
    "    (0, 1, 0, 0): +1 / np.sqrt(10) - 1 / np.sqrt(10),\n",
    "    (0, 1, 0, 1): +1 / np.sqrt(10) - 3 / np.sqrt(10),\n",
    "    (0, 1, 1, 0): +3 / np.sqrt(10) - 1 / np.sqrt(10),\n",
    "    (0, 1, 1, 1): +3 / np.sqrt(10) - 3 / np.sqrt(10),\n",
    "    (1, 0, 0, 0): -1 / np.sqrt(10) + 1 / np.sqrt(10),\n",
    "    (1, 0, 0, 1): -1 / np.sqrt(10) + 3 / np.sqrt(10),\n",
    "    (1, 0, 1, 0): -3 / np.sqrt(10) + 1 / np.sqrt(10),\n",
    "    (1, 0, 1, 1): -3 / np.sqrt(10) + 3 / np.sqrt(10),\n",
    "    (1, 1, 0, 0): -1 / np.sqrt(10) - 1 / np.sqrt(10),\n",
    "    (1, 1, 0, 1): -1 / np.sqrt(10) - 3 / np.sqrt(10),\n",
    "    (1, 1, 1, 0): -3 / np.sqrt(10) - 1 / np.sqrt(10),\n",
    "    (1, 1, 1, 1): -3 / np.sqrt(10) - 3 / np.sqrt(10),\n",
    "}\n",
    "CONSTELLATION: Dict[str, Dict]\n",
    "CONSTELLATION = {\n",
    "    \"bpsk\": CONST_BPSK,\n",
    "    \"qpsk\": CONST_QPSK,\n",
    "    \"16qam\": CONST_16QAM,\n",
    "}"
   ]
  },
  {
   "cell_type": "markdown",
   "metadata": {},
   "source": [
    "### 2.2.1 Mapper\n",
    "Der Mapper weist einer Bit-Gruppe ein Konstellationssymbol zu. Je nach Anzahl der Konstallationssymbole kann ein Symbol die Information von mehereren Bits tragen.\n",
    "$symbol_{anz} \\hat{=} 2^{bit_{anz}}$\n",
    "Umgekehrt ${bit_{anz}} \\hat{=} \\log_{2}{symbol_{anz}}$"
   ]
  },
  {
   "cell_type": "code",
   "execution_count": null,
   "metadata": {},
   "outputs": [],
   "source": [
    "bits: np.ndarray = np.array([1, 0])\n",
    "constellation = CONSTELLATION[\"bpsk\"]\n",
    "mapped_symbols: np.ndarray = mapper(bits, constellation)\n",
    "print(f\"Konstellations Tabelle:\")\n",
    "for key in constellation:\n",
    "    print(f\"{key} = {constellation[key]}\")\n",
    "print(f\"Bits:   {bits}\")\n",
    "print(f\"Mapped: {mapped_symbols}\")"
   ]
  },
  {
   "cell_type": "code",
   "execution_count": null,
   "metadata": {},
   "outputs": [],
   "source": [
    "def plot_symbols(symbols: np.ndarray) -> None:\n",
    "    ORIGIN = (0, 0)\n",
    "\n",
    "    fig, axs = plt.subplots(ncols=1, nrows=1, figsize=[4, 4])\n",
    "    fig.suptitle(f\"Symbol{'e' if len(symbols) > 1 else ''} auf der Komplexen ebene.\")\n",
    "\n",
    "    ax = fig.add_subplot(axs)\n",
    "    ax.grid(True)\n",
    "    # ax.set_xlim(-1.5, 1.5)\n",
    "    # ax.set_ylim(-1.5, 1.5)\n",
    "    ax.set_xlabel(\"Real\")\n",
    "    ax.set_ylabel(\"Imaginär\")\n",
    "\n",
    "    for symbol in symbols:\n",
    "        ax.scatter(symbol.real, symbol)\n",
    "    # plt.arro1(0, 0, 1, 1, color=[\"r\"], scale=21)\n",
    "    plt.show()"
   ]
  },
  {
   "cell_type": "markdown",
   "metadata": {},
   "source": [
    "Darstellung des Symbols auf der komplexen Ebene"
   ]
  },
  {
   "cell_type": "code",
   "execution_count": null,
   "metadata": {},
   "outputs": [],
   "source": [
    "bits: np.ndarray = np.array([0, 1, 1, 0])\n",
    "constellation: Dict[Tuple, complex] = CONSTELLATION[\"bpsk\"]\n",
    "mapped_symbols: np.ndarray = mapper(bits, constellation)\n",
    "plot_symbols([mapped_symbols])"
   ]
  },
  {
   "cell_type": "markdown",
   "metadata": {},
   "source": [
    "### 2.2.1 Entscheider\n",
    "Entscheidet sich für das Symbol, welches zu dem empfangen Symbol die geringste eukliedische Distanz hat."
   ]
  },
  {
   "cell_type": "code",
   "execution_count": null,
   "metadata": {},
   "outputs": [],
   "source": [
    "constellation: Dict[Tuple, complex] = CONSTELLATION[\"bpsk\"]\n",
    "noisy_symbols: np.ndarray = np.array([1.1 + 0.9j, -1.2 - 1.3j, -1 + 0.9j])\n",
    "decision_symbols: np.ndarray = decission(noisy_symbols, constellation)\n",
    "print(f\"Noisy symbols:   {noisy_symbols}\")\n",
    "print(f\"Decided symbols: {decision_symbols}\")\n",
    "plot_symbols([noisy_symbols[1], decision_symbols[1]])"
   ]
  },
  {
   "cell_type": "markdown",
   "metadata": {},
   "source": [
    "### 2.2.2 Demapper"
   ]
  },
  {
   "cell_type": "code",
   "execution_count": null,
   "metadata": {},
   "outputs": [],
   "source": [
    "constellation: Dict[Tuple, complex] = CONSTELLATION[\"bpsk\"]\n",
    "symbols: np.ndarray = np.array(\n",
    "    [\n",
    "        +1 / np.sqrt(2) + 1j * (1 / np.sqrt(2)),\n",
    "        +1 / np.sqrt(2) + 1j * (1 / np.sqrt(2)),\n",
    "        +1 / np.sqrt(2) + 1j * (1 / np.sqrt(2)),\n",
    "        +1 / np.sqrt(2) + 1j * (1 / np.sqrt(2)),\n",
    "    ]\n",
    ")\n",
    "bits: np.ndarray = demapper(symbols, constellation)\n",
    "print(f\"Konstellations Tabelle:\")\n",
    "for key in constellation:\n",
    "    print(f\"{key} = {constellation[key]:.2f}\")\n",
    "print(f\"Symbols:         {symbols}\")\n",
    "print(f\"Demapped Bits:   {bits}\")"
   ]
  },
  {
   "cell_type": "markdown",
   "metadata": {},
   "source": [
    "## 2.3 AWGN\n",
    "Add wihte gaussian nois to a signal."
   ]
  },
  {
   "cell_type": "code",
   "execution_count": null,
   "metadata": {},
   "outputs": [],
   "source": [
    "time: np.ndarray = np.arange(0, 2 * np.pi, 0.01)\n",
    "signal: np.ndarray = np.sin(time)\n",
    "noise_db = 12\n",
    "noisy_signal: np.ndarray = awgn(signal, noise_db)\n",
    "plt.plot(time, noisy_signal)\n",
    "plt.xlabel(\"Zeit in s\")\n",
    "plt.ylabel(\"Signal in W\")\n",
    "plt.title(f\"Signal mit Gaussverteilem rauschen SNR = {noise_db} dB\")\n",
    "plt.show"
   ]
  },
  {
   "cell_type": "markdown",
   "metadata": {},
   "source": [
    "## 2.4 Radio Fading Channel / Schwundkanal"
   ]
  },
  {
   "cell_type": "code",
   "execution_count": null,
   "metadata": {},
   "outputs": [],
   "source": [
    "signal: np.ndarray = radio_fading_channel(int(10e6))\n",
    "\n",
    "fig, axs = plt.subplots(ncols=2, nrows=1, figsize=[10, 5])\n",
    "ax0 = fig.add_subplot(axs[0])\n",
    "ax1 = fig.add_subplot(axs[1])\n",
    "\n",
    "ax0.hist(np.abs(signal), bins=500, density=1)\n",
    "ax0.set_xlabel(\"Betrag Kanalkoeffizient in 1\")\n",
    "ax0.set_ylabel(\"Vorkommen normiert\")\n",
    "ax0.set_title(f\"Betrag der kanalkoeffizenten\")\n",
    "ax0.grid(True, which=\"major\")\n",
    "ax0.grid(True, which=\"minor\")\n",
    "\n",
    "ax1.hist(np.angle(signal, deg=False), bins=500, density=1)\n",
    "ax1.hlines(\n",
    "    1 / (2 * np.pi),\n",
    "    -np.pi,\n",
    "    np.pi,\n",
    "    colors=\"r\",\n",
    "    linestyles=\"solid\",\n",
    "    label=\"Error threshold\",\n",
    ")\n",
    "ax1.set_xlabel(\"Phase in rad\")\n",
    "ax1.set_ylabel(\"Vorkommen normiert\")\n",
    "ax1.set_title(f\"Phase der Kanalkoeffizienten (-π bis π)\")\n",
    "ax1.grid(True, which=\"major\")\n",
    "ax1.grid(True, which=\"minor\")\n",
    "\n",
    "plt.show"
   ]
  },
  {
   "cell_type": "markdown",
   "metadata": {},
   "source": [
    "# 3. Komplette Simulation"
   ]
  },
  {
   "cell_type": "markdown",
   "metadata": {},
   "source": [
    "## 3.1 AWGN Kanal"
   ]
  },
  {
   "cell_type": "markdown",
   "metadata": {},
   "source": [
    "### 3.1.1 Simulation"
   ]
  },
  {
   "cell_type": "code",
   "execution_count": null,
   "metadata": {},
   "outputs": [],
   "source": [
    "def simulation_awgn(n_bits, constellation, snr_b) -> Tuple[int, float]:\n",
    "    \"\"\"\n",
    "\n",
    "    This is the complet simmulation of a AWGN channel.\n",
    "    \"\"\"\n",
    "    # Generate bits\n",
    "    source_bits: np.ndarray = generate_bits(n_bits)\n",
    "\n",
    "    # Mapp symbols\n",
    "    mapped_symbols: np.ndarray = mapper(source_bits, constellation)\n",
    "\n",
    "    # Add Noise\n",
    "    snr_s = snr_b * np.log2(len(constellation))\n",
    "    noisy_signal: np.ndarray = awgn(mapped_symbols, snr_s)\n",
    "\n",
    "    # Decide symbols\n",
    "    decided_symbols = decission(noisy_signal, constellation)\n",
    "\n",
    "    # Demap bits\n",
    "    demapped_bits: np.ndarray = demapper(decided_symbols, constellation)\n",
    "\n",
    "    # Count errors\n",
    "    bit_errors: int\n",
    "    ber: float\n",
    "    bit_errors, ber = count_errors(source_bits, demapped_bits)\n",
    "    return bit_errors, ber"
   ]
  },
  {
   "cell_type": "code",
   "execution_count": null,
   "metadata": {},
   "outputs": [],
   "source": [
    "constellation = CONSTELLATION[\"bpsk\"]\n",
    "bit_errors, ber = simulation_awgn(n_bits=100, constellation=constellation, snr_b=0)\n",
    "print(f\"Errors: {bit_errors}\")\n",
    "print(f\"BER:    {ber}\")"
   ]
  },
  {
   "cell_type": "markdown",
   "metadata": {},
   "source": [
    "### 3.1.2 Visualisierung"
   ]
  },
  {
   "cell_type": "code",
   "execution_count": null,
   "metadata": {},
   "outputs": [],
   "source": [
    "n_min_error = 100\n",
    "n_bits = 100000\n",
    "max_iterations = 20\n",
    "# Signal to noise rations\n",
    "snr_bs: np.ndarray = np.arange(0, 12, 1)\n",
    "\n",
    "# Error rates for each SNR\n",
    "bers = []\n",
    "for snr_b in snr_bs:\n",
    "    loop_errors = 0\n",
    "    for i in tqdm(range(max_iterations), desc=f\"snr_b: {snr_b}\"):\n",
    "        bit_errors, ber = simulation_awgn(n_bits, CONSTELLATION[\"bpsk\"], snr_b)\n",
    "        loop_errors += bit_errors\n",
    "        if loop_errors >= 100:\n",
    "            break\n",
    "    bers.append(ber)\n",
    "\n",
    "bers_a = np.array(bers)"
   ]
  },
  {
   "cell_type": "code",
   "execution_count": null,
   "metadata": {},
   "outputs": [],
   "source": [
    "import math\n",
    "from scipy import special\n",
    "\n",
    "snr_awgn_anal_db = np.arange(0, 12, 0.1)\n",
    "snr_awgn_anal_lin = 10 ** (snr_awgn_anal_db / 10)\n",
    "ber_awgn_anal = 0.5 * special.erfc(np.sqrt(snr_awgn_anal_lin))\n",
    "plt.plot(snr_bs, bers_a, \"o\", label=\"AWGN Numerisch\")\n",
    "plt.plot(snr_awgn_anal_db, ber_awgn_anal, label=\"AWGN Analytisch\")\n",
    "plt.legend()\n",
    "plt.yscale(\"log\")\n",
    "plt.xlim(0, 12)\n",
    "plt.ylim(1e-6, 1e-1)\n",
    "plt.xlabel(\"SNR_B in dB\")\n",
    "plt.ylabel(\"BER in 1\")\n",
    "plt.title(f\"BER in Abhängigkeit des SNR AWGN-Kanal\")\n",
    "plt.grid(True, which=\"both\", linestyle=\"--\")\n",
    "plt.show()"
   ]
  },
  {
   "cell_type": "markdown",
   "metadata": {},
   "source": [
    "## 3.2 Simulation des Rayleigh Kanal"
   ]
  },
  {
   "cell_type": "markdown",
   "metadata": {},
   "source": [
    "### 3.2.1 Simulation Funktion"
   ]
  },
  {
   "cell_type": "code",
   "execution_count": null,
   "metadata": {},
   "outputs": [],
   "source": [
    "def simulation_rayleigh(n_bits, constellation, snr_b) -> Tuple[int, float]:\n",
    "    \"\"\"\n",
    "\n",
    "    This is the complet simmulation of a Rayleigh channel.\n",
    "    \"\"\"\n",
    "    # Generate bits\n",
    "    source_bits: np.ndarray = generate_bits(n_bits)\n",
    "\n",
    "    # Mapp symbols\n",
    "    mapped_symbols: np.ndarray = mapper(source_bits, constellation)\n",
    "\n",
    "    # Add Channel coefficents\n",
    "    channel_coeff = radio_fading_channel(len(mapped_symbols))\n",
    "    fading_signal = mapped_symbols * channel_coeff\n",
    "    # fading_signal = mapped_symbols\n",
    "\n",
    "    # Add Noise\n",
    "    snr_s = snr_b * np.log2(len(constellation))  # bit noise to symbol noise\n",
    "    noisy_signal: np.ndarray = awgn(fading_signal, snr_s)\n",
    "\n",
    "    # Compensate coefficents\n",
    "    # compensated_signal = noisy_signal / channel_coeff\n",
    "    compensated_signal = noisy_signal\n",
    "\n",
    "    # Decide symbols\n",
    "    decided_symbols = decission(compensated_signal, constellation)\n",
    "\n",
    "    # Demap bits\n",
    "    demapped_bits: np.ndarray = demapper(decided_symbols, constellation)\n",
    "\n",
    "    # Count errors\n",
    "    bit_errors: int\n",
    "    ber: float\n",
    "    bit_errors, ber = count_errors(source_bits, demapped_bits)\n",
    "    return bit_errors, ber"
   ]
  },
  {
   "cell_type": "code",
   "execution_count": null,
   "metadata": {},
   "outputs": [],
   "source": [
    "constellation = CONSTELLATION[\"bpsk\"]\n",
    "bit_errors, ber = simulation_rayleigh(n_bits=50, constellation=constellation, snr_b=20)\n",
    "print(f\"Errors: {bit_errors}\")\n",
    "print(f\"BER:    {ber}\")"
   ]
  },
  {
   "cell_type": "markdown",
   "metadata": {},
   "source": [
    "### 3.2.2 Visualisierung / Diagramme"
   ]
  },
  {
   "cell_type": "code",
   "execution_count": null,
   "metadata": {},
   "outputs": [],
   "source": [
    "n_min_error = 100\n",
    "n_bits = 100000\n",
    "max_iterations = 100\n",
    "# Signal to noise rations\n",
    "snr_bs: np.ndarray = np.arange(0, 12, 1)\n",
    "\n",
    "# Error rates for each SNR\n",
    "bers = []\n",
    "for snr_b in snr_bs:\n",
    "    loop_errors = 0\n",
    "    for i in tqdm(range(max_iterations), desc=f\"snr_b: {snr_b}\"):\n",
    "        # print(\"a\")\n",
    "        bit_errors, ber = simulation_rayleigh(n_bits, CONSTELLATION[\"bpsk\"], snr_b)\n",
    "        loop_errors += bit_errors\n",
    "        if loop_errors >= 100:\n",
    "            break\n",
    "    bers.append(ber)\n",
    "\n",
    "bers_a = np.array(bers)"
   ]
  },
  {
   "cell_type": "code",
   "execution_count": null,
   "metadata": {},
   "outputs": [],
   "source": [
    "snr_awgn_anal_db = np.arange(0, 12, 0.1)\n",
    "snr_awgn_anal_lin = 10 ** (snr_awgn_anal_db / 10)\n",
    "ber_awgn_anal = 0.5 * special.erfc(np.sqrt(snr_awgn_anal_lin))\n",
    "plt.plot(snr_awgn_anal_db, ber_awgn_anal, label=\"AWGN Analytisch\")\n",
    "snr_rayleigh_anal_db = np.arange(0, 30, 0.1)\n",
    "snr_rayleigh_anal_lin = 10 ** (snr_rayleigh_anal_db / 10)\n",
    "ber_rayleigh_anal = 0.5 * (\n",
    "    1 - np.sqrt(snr_rayleigh_anal_lin / (1 + snr_rayleigh_anal_lin))\n",
    ")\n",
    "plt.plot(snr_bs, bers_a, \"o\", label=\"Rayleigh Numerisch\")\n",
    "plt.plot(snr_rayleigh_anal_db, ber_rayleigh_anal, label=\"rayleigh Analytisch\")\n",
    "plt.yscale(\"log\")\n",
    "plt.xlim(0, 30)\n",
    "plt.ylim(1e-6, 1e-1)\n",
    "plt.legend()\n",
    "plt.xlabel(\"SNR_B in dB\")\n",
    "plt.ylabel(\"BER in 1\")\n",
    "plt.title(f\"BER in Abhängigkeit des SNR\")\n",
    "plt.grid(True, which=\"both\", linestyle=\"--\")\n",
    "plt.show()"
   ]
  },
  {
   "cell_type": "markdown",
   "metadata": {},
   "source": [
    "## 3.3 Simulation des Rice Kanal"
   ]
  },
  {
   "cell_type": "markdown",
   "metadata": {},
   "source": [
    "### 3.3.1 Simulation funktion"
   ]
  },
  {
   "cell_type": "code",
   "execution_count": null,
   "metadata": {},
   "outputs": [],
   "source": [
    "def simulation_rice(n_bits, constellation, snr_b) -> Tuple[int, float]:\n",
    "    \"\"\"\n",
    "\n",
    "    This is the complet simmulation of a Rice channel.\n",
    "    \"\"\"\n",
    "    pass\n",
    "    return bit_errors, ber"
   ]
  },
  {
   "cell_type": "markdown",
   "metadata": {},
   "source": [
    "### 3.3.2 Visualisierung / Diagramme"
   ]
  },
  {
   "cell_type": "code",
   "execution_count": null,
   "metadata": {},
   "outputs": [],
   "source": [
    "pass"
   ]
  }
 ],
 "metadata": {
  "kernelspec": {
   "display_name": "Python 3",
   "language": "python",
   "name": "python3"
  },
  "language_info": {
   "codemirror_mode": {
    "name": "ipython",
    "version": 3
   },
   "file_extension": ".py",
   "mimetype": "text/x-python",
   "name": "python",
   "nbconvert_exporter": "python",
   "pygments_lexer": "ipython3",
   "version": "3.8.5"
  },
  "toc-autonumbering": false,
  "toc-showcode": false,
  "toc-showmarkdowntxt": false
 },
 "nbformat": 4,
 "nbformat_minor": 4
}
